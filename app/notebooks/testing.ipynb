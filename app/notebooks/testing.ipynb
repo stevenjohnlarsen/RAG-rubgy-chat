{
 "cells": [
  {
   "cell_type": "code",
   "execution_count": 1,
   "metadata": {},
   "outputs": [],
   "source": [
    "from langchain_community.document_loaders import PyPDFLoader\n",
    "from langchain_core.documents import Document\n",
    "import json\n",
    "\n"
   ]
  },
  {
   "cell_type": "code",
   "execution_count": 2,
   "metadata": {},
   "outputs": [],
   "source": [
    "with open('./../../data/pages.json') as f: \n",
    "    pages = json.load(f)\n",
    "\n",
    "docs = [\n",
    "    Document(\n",
    "        page_content=page_content, \n",
    "        metadata={\"page_number\":page_number})\n",
    "    for page_number, page_content in \n",
    "    zip(pages['page_numbers'],pages['page_content'])\n",
    "]"
   ]
  },
  {
   "cell_type": "code",
   "execution_count": 3,
   "metadata": {},
   "outputs": [],
   "source": [
    "from dotenv import load_dotenv\n",
    "import os \n",
    "os.environ['OPENAI_API_KEY'] = \"\"\n",
    "\n",
    "from langchain_community.vectorstores import FAISS\n",
    "from langchain_openai import OpenAIEmbeddings\n",
    "\n",
    "\n",
    "embeddings = OpenAIEmbeddings(model=\"text-embedding-3-large\")\n",
    "text = \"This is a test document.\"\n",
    "\n"
   ]
  },
  {
   "cell_type": "code",
   "execution_count": 9,
   "metadata": {},
   "outputs": [],
   "source": [
    "from tqdm.notebook import tqdm\n",
    "from langchain_community.vectorstores.faiss import FAISS\n",
    "embeddings = OpenAIEmbeddings()\n",
    "vectorstore = FAISS.from_documents(documents=docs, embedding = embeddings)"
   ]
  },
  {
   "cell_type": "code",
   "execution_count": 11,
   "metadata": {},
   "outputs": [],
   "source": [
    "retriever = vectorstore.as_retriever()\n",
    "\n",
    "docs = retriever.get_relevant_documents(\"When is the ball out?\")\n",
    "\n",
    "\n"
   ]
  },
  {
   "cell_type": "code",
   "execution_count": 12,
   "metadata": {},
   "outputs": [
    {
     "data": {
      "text/plain": [
       "[Document(page_content='c. Ball is kicked from a penalty\\nEventLocation of the mark \\nof touchWho throws in\\nA player kicks the ball into \\ntouch (either directly or first \\nbouncing in the field of play \\nor hitting an opponent or \\nthe referee) .Where the ball \\nreaches the touchline  .The kicking team .\\nA player, who is in touch, \\ncatches the ball irrespective \\nof whether the ball has \\nreached the touchline  .Where the ball \\nreaches the touchline \\nor, if the ball hasn’t \\nreached the touchline, \\nwhere the player \\ncatching the ball is \\nstanding .The kicking team .\\nA player, who is in touch, \\npicks up a ball that has not \\nreached the plane of touch .Where that player is \\nstanding .The kicking team .\\nWORLD RUGBY\\n88LAW 18 Touch, quick throw and lineout', metadata={'page_number': 89}),\n",
       " Document(page_content='ENDING A LINEOUT\\n3 7. The lineout ends when:\\na. The ball or a player in possession of the ball:\\ni. leaves the lineout; or\\nii. enters the area between the touchline and the five-metre line; or\\niii. goes beyond the 15-metre line  .\\nb. A ruck or maul forms and all of the feet of all of the players in the ruck or \\nmaul move beyond the mark of touch .\\nc. The ball becomes unplayable  .\\n38. Other than by moving to the receiver position if that position is empty, no \\nlineout player may leave the lineout until it has ended .  Sanction:\\xa0Penalty  .\\nWORLD RUGBY\\n98LAW 18 Touch, quick throw and lineout', metadata={'page_number': 99}),\n",
       " Document(page_content='22m line\\nGoal lineRetrieves \\nballQuick throw-in \\nanywhere here  Mark of touch\\nQuick throw-in\\n85\\nLAWS OF THE GAME RUGBY UNION 2024LAW 18 Touch, quick throw and lineout LAW 18 Touch, quick throw and lineout', metadata={'page_number': 86}),\n",
       " Document(page_content='THROWING INTO A LINEOUT\\n22. The player throwing in the ball stands on the mark of touch with both feet \\noutside the field of play  . The thrower must not step into the field of play until \\nthe ball has been thrown .  Sanction:\\xa0Option of lineout or scrum .\\n23. The ball must:\\na. Be thrown in straight along the mark of touch; and\\nb. Reach the five-metre line before it hits the ground or is played .\\nSanction:\\xa0Option of lineout or scrum .  If the lineout is chosen and the ball is again \\nnot thrown straight, a scrum is awarded to the team that originally threw in the ball  .\\nc. Be thrown in without delay once the lineout is formed .  Sanction:\\xa0Free-\\nkick .\\n24. The thrower must not pretend to throw the ball  . Sanction:\\xa0Free-kick  .\\n25. No player can block the throw or prevent the ball from travelling five metres .  \\nSanction:\\xa0Free-kick  .\\n5m line\\n5mTouchline\\nPlayers must \\nnot step into the \\nfield of play when \\nthrowing in the ball\\nBall must be thrown so that it \\ntravels at least five metres before it \\nfirst touches the ground or touches \\nor is touched by a player\\nWORLD RUGBY\\n94LAW 18 Touch, quick throw and lineout', metadata={'page_number': 95})]"
      ]
     },
     "execution_count": 12,
     "metadata": {},
     "output_type": "execute_result"
    }
   ],
   "source": [
    "docs"
   ]
  },
  {
   "cell_type": "code",
   "execution_count": 8,
   "metadata": {},
   "outputs": [],
   "source": [
    "from langchain_community.vectorstores.faiss import FAISS\n",
    "import faiss"
   ]
  }
 ],
 "metadata": {
  "kernelspec": {
   "display_name": "rag-env",
   "language": "python",
   "name": "python3"
  },
  "language_info": {
   "codemirror_mode": {
    "name": "ipython",
    "version": 3
   },
   "file_extension": ".py",
   "mimetype": "text/x-python",
   "name": "python",
   "nbconvert_exporter": "python",
   "pygments_lexer": "ipython3",
   "version": "3.8.10"
  },
  "orig_nbformat": 4
 },
 "nbformat": 4,
 "nbformat_minor": 2
}
